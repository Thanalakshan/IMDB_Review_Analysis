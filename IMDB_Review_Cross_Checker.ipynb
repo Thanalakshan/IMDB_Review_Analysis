{
  "cells": [
    {
      "cell_type": "code",
      "source": [
        "import os\n",
        "import json\n",
        "from tensorflow.keras.models import load_model\n",
        "from tensorflow.keras.preprocessing.text import tokenizer_from_json\n",
        "from tensorflow.keras.preprocessing.sequence import pad_sequences"
      ],
      "metadata": {
        "id": "kFYZNfeCoxU_"
      },
      "execution_count": 2,
      "outputs": []
    },
    {
      "cell_type": "code",
      "source": [
        "model_path = \"/content/model.h5\"\n",
        "tokenizer_path = \"/content/tokenizer.json\"\n",
        "if not os.path.exists(model_path):\n",
        "    print(f\"Error: Model file '{model_path}' not found.\")\n",
        "    exit()\n",
        "\n",
        "if not os.path.exists(tokenizer_path):\n",
        "    print(f\"Error: Tokenizer file '{tokenizer_path}' not found.\")\n",
        "    exit()\n",
        "\n",
        "# Load the model\n",
        "loaded_model = load_model('model.h5')\n",
        "\n",
        "# Load the tokenizer\n",
        "with open('tokenizer.json', 'r', encoding='utf-8') as f:\n",
        "    tokenizer_json = json.load(f)\n",
        "    tokenizer = tokenizer_from_json(tokenizer_json)"
      ],
      "metadata": {
        "id": "HeUtThAgr3H0"
      },
      "execution_count": 3,
      "outputs": []
    },
    {
      "cell_type": "code",
      "source": [
        "# Function to predict sentiment\n",
        "def predict_sentiment(review):\n",
        "    sequence = tokenizer.texts_to_sequences([review])\n",
        "    padded_sequence = pad_sequences(sequence, maxlen=200)\n",
        "    prediction = loaded_model.predict(padded_sequence)\n",
        "    sentiment = \"Positive 😊\" if prediction[0][0] > 0.5 else \"Negative 😞\"\n",
        "    return sentiment"
      ],
      "metadata": {
        "id": "D-tDLpH-yOTn"
      },
      "execution_count": 4,
      "outputs": []
    },
    {
      "cell_type": "code",
      "source": [
        "# Example usage\n",
        "new_review = \"This movie was not that good\"\n",
        "sentiment = predict_sentiment(new_review)\n",
        "print(f\"The sentiment of the review is: {sentiment}\")"
      ],
      "metadata": {
        "id": "Mvo9bWXHyQNM",
        "outputId": "59e1f37f-8b3a-4f6f-dbf8-e6ff6d737e53",
        "colab": {
          "base_uri": "https://localhost:8080/"
        }
      },
      "execution_count": 5,
      "outputs": [
        {
          "output_type": "stream",
          "name": "stdout",
          "text": [
            "1/1 [==============================] - 1s 622ms/step\n",
            "The sentiment of the review is: Negative 😞\n"
          ]
        }
      ]
    }
  ],
  "metadata": {
    "colab": {
      "provenance": []
    },
    "kernelspec": {
      "display_name": "Python 3",
      "name": "python3"
    }
  },
  "nbformat": 4,
  "nbformat_minor": 0
}